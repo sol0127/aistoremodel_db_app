{
 "cells": [
  {
   "cell_type": "code",
   "execution_count": 1,
   "id": "7a562e9c",
   "metadata": {},
   "outputs": [],
   "source": [
    "import pandas as pd\n",
    "\n",
    "s_df = pd.read_csv('./static/stores.csv')\n",
    "s_df = s_df.set_index('s_id', drop=False)\n",
    "p_df = pd.read_csv('./static/products.csv')\n",
    "iv_df = pd.read_csv('./static/inventory.csv')\n"
   ]
  },
  {
   "cell_type": "code",
   "execution_count": 2,
   "id": "4d200776",
   "metadata": {},
   "outputs": [
    {
     "data": {
      "text/plain": [
       "[{'p_id': 'p1', 'product': '커피', 'reco_price': 1500},\n",
       " {'p_id': 'p2', 'product': '쿠키', 'reco_price': 2000},\n",
       " {'p_id': 'p3', 'product': '아이스크림', 'reco_price': 1500},\n",
       " {'p_id': 'p4', 'product': '에이드', 'reco_price': 3000},\n",
       " {'p_id': 'p5', 'product': '와플', 'reco_price': 4000},\n",
       " {'p_id': 'p6', 'product': '과일주스', 'reco_price': 4000},\n",
       " {'p_id': 'p7', 'product': '초콜릿', 'reco_price': 1500}]"
      ]
     },
     "execution_count": 2,
     "metadata": {},
     "output_type": "execute_result"
    }
   ],
   "source": [
    "p_df.to_dict('records')"
   ]
  },
  {
   "cell_type": "code",
   "execution_count": 3,
   "id": "96fbd2ce",
   "metadata": {},
   "outputs": [
    {
     "data": {
      "text/plain": [
       "[{'s_id': 's1', 'name': '용산점', 'locate': '용산', 'products_num': 6},\n",
       " {'s_id': 's2', 'name': '강남점', 'locate': '강남', 'products_num': 3},\n",
       " {'s_id': 's3', 'name': '강북점', 'locate': '강북', 'products_num': 4}]"
      ]
     },
     "execution_count": 3,
     "metadata": {},
     "output_type": "execute_result"
    }
   ],
   "source": [
    "s_df.to_dict('records')"
   ]
  },
  {
   "cell_type": "code",
   "execution_count": 4,
   "id": "96430d46",
   "metadata": {},
   "outputs": [
    {
     "data": {
      "text/html": [
       "<div>\n",
       "<style scoped>\n",
       "    .dataframe tbody tr th:only-of-type {\n",
       "        vertical-align: middle;\n",
       "    }\n",
       "\n",
       "    .dataframe tbody tr th {\n",
       "        vertical-align: top;\n",
       "    }\n",
       "\n",
       "    .dataframe thead th {\n",
       "        text-align: right;\n",
       "    }\n",
       "</style>\n",
       "<table border=\"1\" class=\"dataframe\">\n",
       "  <thead>\n",
       "    <tr style=\"text-align: right;\">\n",
       "      <th></th>\n",
       "      <th>p_id</th>\n",
       "      <th>count</th>\n",
       "      <th>price</th>\n",
       "      <th>s_id</th>\n",
       "      <th>product</th>\n",
       "      <th>reco_price</th>\n",
       "    </tr>\n",
       "  </thead>\n",
       "  <tbody>\n",
       "    <tr>\n",
       "      <th>0</th>\n",
       "      <td>p1</td>\n",
       "      <td>50</td>\n",
       "      <td>2000</td>\n",
       "      <td>s1</td>\n",
       "      <td>커피</td>\n",
       "      <td>1500</td>\n",
       "    </tr>\n",
       "    <tr>\n",
       "      <th>1</th>\n",
       "      <td>p2</td>\n",
       "      <td>30</td>\n",
       "      <td>1000</td>\n",
       "      <td>s1</td>\n",
       "      <td>쿠키</td>\n",
       "      <td>2000</td>\n",
       "    </tr>\n",
       "    <tr>\n",
       "      <th>2</th>\n",
       "      <td>p3</td>\n",
       "      <td>30</td>\n",
       "      <td>1500</td>\n",
       "      <td>s1</td>\n",
       "      <td>아이스크림</td>\n",
       "      <td>1500</td>\n",
       "    </tr>\n",
       "    <tr>\n",
       "      <th>3</th>\n",
       "      <td>p4</td>\n",
       "      <td>20</td>\n",
       "      <td>3000</td>\n",
       "      <td>s1</td>\n",
       "      <td>에이드</td>\n",
       "      <td>3000</td>\n",
       "    </tr>\n",
       "    <tr>\n",
       "      <th>4</th>\n",
       "      <td>p5</td>\n",
       "      <td>10</td>\n",
       "      <td>4000</td>\n",
       "      <td>s1</td>\n",
       "      <td>와플</td>\n",
       "      <td>4000</td>\n",
       "    </tr>\n",
       "    <tr>\n",
       "      <th>5</th>\n",
       "      <td>p6</td>\n",
       "      <td>10</td>\n",
       "      <td>3000</td>\n",
       "      <td>s1</td>\n",
       "      <td>과일주스</td>\n",
       "      <td>4000</td>\n",
       "    </tr>\n",
       "  </tbody>\n",
       "</table>\n",
       "</div>"
      ],
      "text/plain": [
       "  p_id  count  price s_id product  reco_price\n",
       "0   p1     50   2000   s1      커피        1500\n",
       "1   p2     30   1000   s1      쿠키        2000\n",
       "2   p3     30   1500   s1   아이스크림        1500\n",
       "3   p4     20   3000   s1     에이드        3000\n",
       "4   p5     10   4000   s1      와플        4000\n",
       "5   p6     10   3000   s1    과일주스        4000"
      ]
     },
     "execution_count": 4,
     "metadata": {},
     "output_type": "execute_result"
    }
   ],
   "source": [
    "s_id='s1'\n",
    "inven = iv_df[iv_df['s_id']==s_id]\n",
    "ip_df=inven.merge(p_df, on='p_id')\n",
    "ip_df"
   ]
  },
  {
   "cell_type": "code",
   "execution_count": 5,
   "id": "97d59a82",
   "metadata": {},
   "outputs": [
    {
     "name": "stdout",
     "output_type": "stream",
     "text": [
      "  p_id  count  price s_id product  reco_price\n",
      "0   p1     50   2000   s1      커피        1500\n",
      "1   p2     30   1000   s1      쿠키        2000\n",
      "2   p3     30   1500   s1   아이스크림        1500\n",
      "3   p4     20   3000   s1     에이드        3000\n",
      "4   p5     10   4000   s1      와플        4000\n",
      "5   p6     10   3000   s1    과일주스        4000\n",
      "  p_id  count  price s_id product  reco_price\n",
      "0   p1     20   2000   s2      커피        1500\n",
      "1   p3     60   1500   s2   아이스크림        1500\n",
      "2   p4     20   3000   s2     에이드        3000\n",
      "  p_id  count  price s_id product  reco_price\n",
      "0   p3     30   1500   s3   아이스크림        1500\n",
      "1   p4     10   3000   s3     에이드        3000\n",
      "2   p5     20   4000   s3      와플        4000\n",
      "3   p7     30   1000   s3     초콜릿        1500\n"
     ]
    }
   ],
   "source": [
    "for s_id in s_df.index:\n",
    "    inven = iv_df[iv_df['s_id']==s_id]\n",
    "    ip_df=inven.merge(p_df, on='p_id')\n",
    "    print(ip_df)"
   ]
  },
  {
   "cell_type": "code",
   "execution_count": 6,
   "id": "e633ae81",
   "metadata": {},
   "outputs": [
    {
     "name": "stdout",
     "output_type": "stream",
     "text": [
      "['커피', '쿠키', '아이스크림', '에이드', '와플', '과일주스']\n",
      "['커피', '아이스크림', '에이드']\n",
      "['아이스크림', '에이드', '와플', '초콜릿']\n"
     ]
    }
   ],
   "source": [
    "for s_id in s_df.index:\n",
    "    inven = iv_df[iv_df['s_id']==s_id]\n",
    "    ip_df=inven.merge(p_df, on='p_id')\n",
    "    s_list=[]\n",
    "    for p_id in ip_df.index:\n",
    "        s_list.append(ip_df.loc[p_id,'product'])\n",
    "    print(s_list)"
   ]
  },
  {
   "cell_type": "code",
   "execution_count": 7,
   "id": "9ae8b51d",
   "metadata": {},
   "outputs": [
    {
     "name": "stdout",
     "output_type": "stream",
     "text": [
      "{'s_id': 's1', 'name': '용산점', 'locate': '용산', 'product': ['커피', '쿠키', '아이스크림', '에이드', '와플', '과일주스']}\n",
      "{'s_id': 's2', 'name': '강남점', 'locate': '강남', 'product': ['커피', '아이스크림', '에이드']}\n",
      "{'s_id': 's3', 'name': '강북점', 'locate': '강북', 'product': ['아이스크림', '에이드', '와플', '초콜릿']}\n"
     ]
    }
   ],
   "source": [
    "for s_id in s_df.index:\n",
    "    inven = iv_df[iv_df['s_id'] == s_id]\n",
    "    ip_df = inven.merge(p_df, on='p_id')\n",
    "    s_list = []\n",
    "    for p_id in ip_df.index:\n",
    "        s_list.append(ip_df.loc[p_id, 'product'])\n",
    "    sr={'s_id':s_id, 'name':s_df.loc[s_id,'name'],'locate':s_df.loc[s_id,'locate'],'product':s_list}\n",
    "    print(sr)"
   ]
  },
  {
   "cell_type": "code",
   "execution_count": 8,
   "id": "c0a42837",
   "metadata": {},
   "outputs": [
    {
     "name": "stdout",
     "output_type": "stream",
     "text": [
      "{'s_id': 's3', 'name': '강북점', 'locate': '강북', 'product': ['아이스크림', '에이드', '와플', '초콜릿']}\n"
     ]
    }
   ],
   "source": [
    "# s_id='s1'\n",
    "if s_id in s_df.index:\n",
    "    inven = iv_df[iv_df['s_id'] == s_id]\n",
    "    ip_df = inven.merge(p_df, on='p_id')\n",
    "    s_list = []\n",
    "    for p_id in ip_df.index:\n",
    "        s_list.append(ip_df.loc[p_id, 'product'])\n",
    "    sr={'s_id':s_id, 'name':s_df.loc[s_id,'name'],'locate':s_df.loc[s_id,'locate'],'product':s_list}\n",
    "    print(sr)"
   ]
  },
  {
   "cell_type": "code",
   "execution_count": 9,
   "id": "6a730591",
   "metadata": {},
   "outputs": [
    {
     "data": {
      "text/plain": [
       "[{'s_id': 's1',\n",
       "  'name': '용산점',\n",
       "  'locate': '용산',\n",
       "  'product': ['커피', '쿠키', '아이스크림', '에이드', '와플', '과일주스']},\n",
       " {'s_id': 's2',\n",
       "  'name': '강남점',\n",
       "  'locate': '강남',\n",
       "  'product': ['커피', '아이스크림', '에이드']},\n",
       " {'s_id': 's3',\n",
       "  'name': '강북점',\n",
       "  'locate': '강북',\n",
       "  'product': ['아이스크림', '에이드', '와플', '초콜릿']}]"
      ]
     },
     "execution_count": 9,
     "metadata": {},
     "output_type": "execute_result"
    }
   ],
   "source": [
    "sk=[]\n",
    "for s_id in s_df.index:    \n",
    "    inven = iv_df[iv_df['s_id'] == s_id]\n",
    "    ip_df = inven.merge(p_df, on='p_id')\n",
    "    s_list = []   \n",
    "    for p_id in ip_df.index:\n",
    "        s_list.append(ip_df.loc[p_id, 'product']) \n",
    "    sk.append({'s_id':s_id, 'name':s_df.loc[s_id,'name'],'locate':s_df.loc[s_id,'locate'],'product':s_list})\n",
    "   \n",
    "sk"
   ]
  },
  {
   "cell_type": "code",
   "execution_count": 10,
   "id": "bc75f2d4",
   "metadata": {},
   "outputs": [
    {
     "name": "stdout",
     "output_type": "stream",
     "text": [
      "s1\n",
      "[{'p_id': 'p1', 'p_name': '커피', 'count': 50, 'price': 2000}, {'p_id': 'p2', 'p_name': '쿠키', 'count': 30, 'price': 1000}, {'p_id': 'p3', 'p_name': '아이스크림', 'count': 30, 'price': 1500}, {'p_id': 'p4', 'p_name': '에이드', 'count': 20, 'price': 3000}, {'p_id': 'p5', 'p_name': '와플', 'count': 10, 'price': 4000}, {'p_id': 'p6', 'p_name': '과일주스', 'count': 10, 'price': 3000}]\n"
     ]
    },
    {
     "data": {
      "text/plain": [
       "[{'p_id': 'p1', 'p_name': '커피', 'count': 50, 'price': 2000},\n",
       " {'p_id': 'p2', 'p_name': '쿠키', 'count': 30, 'price': 1000},\n",
       " {'p_id': 'p3', 'p_name': '아이스크림', 'count': 30, 'price': 1500},\n",
       " {'p_id': 'p4', 'p_name': '에이드', 'count': 20, 'price': 3000},\n",
       " {'p_id': 'p5', 'p_name': '와플', 'count': 10, 'price': 4000},\n",
       " {'p_id': 'p6', 'p_name': '과일주스', 'count': 10, 'price': 3000}]"
      ]
     },
     "execution_count": 10,
     "metadata": {},
     "output_type": "execute_result"
    }
   ],
   "source": [
    "class AiStore:\n",
    "\n",
    "    def __init__(self, name, s_id, locate, products_num, inventory):\n",
    "        self.name = name\n",
    "        self.s_id = s_id\n",
    "        self.locate = locate\n",
    "        self.products_num = products_num\n",
    "        self.inventory = inventory\n",
    "\n",
    "\n",
    "    def get_inventory(self):\n",
    "        return self.inventory\n",
    "\n",
    "    def get_menu(self):\n",
    "        # {'p_name': p_name, 'price': int(price), 'count': int(count), 'p_id':p_id} 형태로 인벤토리의 상품들을 메뉴리스트에 추가\n",
    "\n",
    "        menu = []\n",
    "\n",
    "        #inven = iv_df[iv_df['s_id'] == s_id]\n",
    "        ip_df=self.get_inventory()\n",
    "        #ip_df = inven.merge(p_df, on='p_id')\n",
    "        ip_df = ip_df.set_index('p_id')\n",
    "        for p_id in ip_df.index:\n",
    "            menu.append({'p_id': p_id, 'p_name': ip_df.loc[p_id, 'product'], 'count': ip_df.loc[p_id, 'count'],\n",
    "                         'price': ip_df.loc[p_id, 'price']})\n",
    "\n",
    "        print(menu)\n",
    "        return menu\n",
    "    def get_product(self, p_id):\n",
    "        # p_id 해당하는 상품 반환 인벤토리에서 쿼리 후 .iloc[0] 을 통해 상품 가져올것\n",
    "        # if p_id in iv_df:\n",
    "        #     p_name=p_df.iloc[0]\n",
    "        #     price=iv_df.iloc[2]\n",
    "        #     count=iv_df.iloce[1]\n",
    "        # return {'p_name': p_name, 'price': int(price), 'count': int(count), 'p_id':p_id}\n",
    "        piv = iv_df[iv_df['p_id'] == p_id]\n",
    "        piv = piv.merge(p_df, on='p_id')\n",
    "        for i in range(len(piv)):\n",
    "            pl={'p_name': piv.iloc[i]['product'], 'price': piv.iloc[i]['price'], 'count': piv.iloc[i]['count'], 'p_id':p_id}\n",
    "        return pl\n",
    "def search_store(s_id):\n",
    "    print(s_id)\n",
    "    if s_id in s_df.index:\n",
    "        store = s_df.loc[s_id]\n",
    "        # 인벤토리에서 s_id에 해당하는 상품 쿼리 후 p_df 와 p_id를 기준으로 머지 (인벤토리가 왼쪽이 되야함)\n",
    "        inven = iv_df[iv_df['s_id'] == s_id]\n",
    "        inventory = inven.merge(p_df, on='p_id')\n",
    "\n",
    "        return AiStore(store['name'],\n",
    "                       store['s_id'],\n",
    "                       store['locate'],\n",
    "                       store['products_num'],\n",
    "                       inventory)\n",
    "    else:\n",
    "        print('스토어를 찾지 못했습니다.')\n",
    "        return None\n",
    "\n",
    "s_id='s1'\n",
    "ai_store=search_store(s_id)\n",
    "ai_store.get_menu()"
   ]
  },
  {
   "cell_type": "code",
   "execution_count": 11,
   "id": "c4970b00",
   "metadata": {},
   "outputs": [
    {
     "name": "stdout",
     "output_type": "stream",
     "text": [
      "s1\n"
     ]
    },
    {
     "data": {
      "text/html": [
       "<div>\n",
       "<style scoped>\n",
       "    .dataframe tbody tr th:only-of-type {\n",
       "        vertical-align: middle;\n",
       "    }\n",
       "\n",
       "    .dataframe tbody tr th {\n",
       "        vertical-align: top;\n",
       "    }\n",
       "\n",
       "    .dataframe thead th {\n",
       "        text-align: right;\n",
       "    }\n",
       "</style>\n",
       "<table border=\"1\" class=\"dataframe\">\n",
       "  <thead>\n",
       "    <tr style=\"text-align: right;\">\n",
       "      <th></th>\n",
       "      <th>p_id</th>\n",
       "      <th>count</th>\n",
       "      <th>price</th>\n",
       "      <th>s_id</th>\n",
       "      <th>product</th>\n",
       "      <th>reco_price</th>\n",
       "    </tr>\n",
       "  </thead>\n",
       "  <tbody>\n",
       "    <tr>\n",
       "      <th>0</th>\n",
       "      <td>p1</td>\n",
       "      <td>50</td>\n",
       "      <td>2000</td>\n",
       "      <td>s1</td>\n",
       "      <td>커피</td>\n",
       "      <td>1500</td>\n",
       "    </tr>\n",
       "    <tr>\n",
       "      <th>1</th>\n",
       "      <td>p2</td>\n",
       "      <td>30</td>\n",
       "      <td>1000</td>\n",
       "      <td>s1</td>\n",
       "      <td>쿠키</td>\n",
       "      <td>2000</td>\n",
       "    </tr>\n",
       "    <tr>\n",
       "      <th>2</th>\n",
       "      <td>p3</td>\n",
       "      <td>30</td>\n",
       "      <td>1500</td>\n",
       "      <td>s1</td>\n",
       "      <td>아이스크림</td>\n",
       "      <td>1500</td>\n",
       "    </tr>\n",
       "    <tr>\n",
       "      <th>3</th>\n",
       "      <td>p4</td>\n",
       "      <td>20</td>\n",
       "      <td>3000</td>\n",
       "      <td>s1</td>\n",
       "      <td>에이드</td>\n",
       "      <td>3000</td>\n",
       "    </tr>\n",
       "    <tr>\n",
       "      <th>4</th>\n",
       "      <td>p5</td>\n",
       "      <td>10</td>\n",
       "      <td>4000</td>\n",
       "      <td>s1</td>\n",
       "      <td>와플</td>\n",
       "      <td>4000</td>\n",
       "    </tr>\n",
       "    <tr>\n",
       "      <th>5</th>\n",
       "      <td>p6</td>\n",
       "      <td>10</td>\n",
       "      <td>3000</td>\n",
       "      <td>s1</td>\n",
       "      <td>과일주스</td>\n",
       "      <td>4000</td>\n",
       "    </tr>\n",
       "  </tbody>\n",
       "</table>\n",
       "</div>"
      ],
      "text/plain": [
       "  p_id  count  price s_id product  reco_price\n",
       "0   p1     50   2000   s1      커피        1500\n",
       "1   p2     30   1000   s1      쿠키        2000\n",
       "2   p3     30   1500   s1   아이스크림        1500\n",
       "3   p4     20   3000   s1     에이드        3000\n",
       "4   p5     10   4000   s1      와플        4000\n",
       "5   p6     10   3000   s1    과일주스        4000"
      ]
     },
     "execution_count": 11,
     "metadata": {},
     "output_type": "execute_result"
    }
   ],
   "source": [
    "s_id='s1'\n",
    "ai_store=search_store(s_id)\n",
    "ai_store.get_inventory()"
   ]
  },
  {
   "cell_type": "code",
   "execution_count": 18,
   "id": "a2db2392",
   "metadata": {},
   "outputs": [
    {
     "data": {
      "text/plain": [
       "{'p_name': '와플', 'price': 4000, 'count': 20, 'p_id': 'p5'}"
      ]
     },
     "execution_count": 18,
     "metadata": {},
     "output_type": "execute_result"
    }
   ],
   "source": [
    "p_id='p5'\n",
    "p_list=ai_store.get_product(p_id)\n",
    "p_list"
   ]
  },
  {
   "cell_type": "code",
   "execution_count": 19,
   "id": "ffd345f8",
   "metadata": {},
   "outputs": [
    {
     "data": {
      "text/plain": [
       "'와플'"
      ]
     },
     "execution_count": 19,
     "metadata": {},
     "output_type": "execute_result"
    }
   ],
   "source": [
    "p_list['p_name']"
   ]
  },
  {
   "cell_type": "code",
   "execution_count": 13,
   "id": "91de2101",
   "metadata": {},
   "outputs": [
    {
     "data": {
      "text/html": [
       "<div>\n",
       "<style scoped>\n",
       "    .dataframe tbody tr th:only-of-type {\n",
       "        vertical-align: middle;\n",
       "    }\n",
       "\n",
       "    .dataframe tbody tr th {\n",
       "        vertical-align: top;\n",
       "    }\n",
       "\n",
       "    .dataframe thead th {\n",
       "        text-align: right;\n",
       "    }\n",
       "</style>\n",
       "<table border=\"1\" class=\"dataframe\">\n",
       "  <thead>\n",
       "    <tr style=\"text-align: right;\">\n",
       "      <th></th>\n",
       "      <th>p_id</th>\n",
       "      <th>count</th>\n",
       "      <th>price</th>\n",
       "      <th>s_id</th>\n",
       "      <th>product</th>\n",
       "      <th>reco_price</th>\n",
       "    </tr>\n",
       "  </thead>\n",
       "  <tbody>\n",
       "    <tr>\n",
       "      <th>0</th>\n",
       "      <td>p5</td>\n",
       "      <td>10</td>\n",
       "      <td>4000</td>\n",
       "      <td>s1</td>\n",
       "      <td>와플</td>\n",
       "      <td>4000</td>\n",
       "    </tr>\n",
       "    <tr>\n",
       "      <th>1</th>\n",
       "      <td>p5</td>\n",
       "      <td>20</td>\n",
       "      <td>4000</td>\n",
       "      <td>s3</td>\n",
       "      <td>와플</td>\n",
       "      <td>4000</td>\n",
       "    </tr>\n",
       "  </tbody>\n",
       "</table>\n",
       "</div>"
      ],
      "text/plain": [
       "  p_id  count  price s_id product  reco_price\n",
       "0   p5     10   4000   s1      와플        4000\n",
       "1   p5     20   4000   s3      와플        4000"
      ]
     },
     "execution_count": 13,
     "metadata": {},
     "output_type": "execute_result"
    }
   ],
   "source": [
    "piv=iv_df[iv_df['p_id']==p_id]\n",
    "piv=piv.merge(p_df, on='p_id')\n",
    "piv"
   ]
  },
  {
   "cell_type": "code",
   "execution_count": 14,
   "id": "e87c639c",
   "metadata": {},
   "outputs": [
    {
     "data": {
      "text/plain": [
       "p_id            p5\n",
       "count           10\n",
       "price         4000\n",
       "s_id            s1\n",
       "product         와플\n",
       "reco_price    4000\n",
       "Name: 0, dtype: object"
      ]
     },
     "execution_count": 14,
     "metadata": {},
     "output_type": "execute_result"
    }
   ],
   "source": [
    "p_name=piv.iloc[0]\n",
    "p_name"
   ]
  },
  {
   "cell_type": "code",
   "execution_count": 15,
   "id": "bf91c223",
   "metadata": {},
   "outputs": [
    {
     "data": {
      "text/plain": [
       "p_id            p5\n",
       "count           10\n",
       "price         4000\n",
       "s_id            s1\n",
       "product         와플\n",
       "reco_price    4000\n",
       "Name: 0, dtype: object"
      ]
     },
     "execution_count": 15,
     "metadata": {},
     "output_type": "execute_result"
    }
   ],
   "source": [
    "if p_id in iv_df:\n",
    "    p_name=p_df.iloc[0]\n",
    "p_name"
   ]
  },
  {
   "cell_type": "code",
   "execution_count": 16,
   "id": "fed407ca",
   "metadata": {},
   "outputs": [
    {
     "name": "stdout",
     "output_type": "stream",
     "text": [
      "p_id            p5\n",
      "count           10\n",
      "price         4000\n",
      "s_id            s1\n",
      "product         와플\n",
      "reco_price    4000\n",
      "Name: 0, dtype: object\n",
      "p_id            p5\n",
      "count           20\n",
      "price         4000\n",
      "s_id            s3\n",
      "product         와플\n",
      "reco_price    4000\n",
      "Name: 1, dtype: object\n"
     ]
    }
   ],
   "source": [
    "piv=iv_df[iv_df['p_id']==p_id]\n",
    "piv=piv.merge(p_df, on='p_id')\n",
    "for i in range(len(piv)):\n",
    "    print(piv.iloc[i])"
   ]
  },
  {
   "cell_type": "code",
   "execution_count": 22,
   "id": "9fcf0a23",
   "metadata": {},
   "outputs": [
    {
     "name": "stdout",
     "output_type": "stream",
     "text": [
      "s1\n"
     ]
    }
   ],
   "source": [
    "s_id='s1'\n",
    "ai_store=search_store(s_id)\n",
    "slist=ai_store.get_inventory()"
   ]
  },
  {
   "cell_type": "code",
   "execution_count": 23,
   "id": "b05edcf4",
   "metadata": {},
   "outputs": [
    {
     "data": {
      "text/html": [
       "<div>\n",
       "<style scoped>\n",
       "    .dataframe tbody tr th:only-of-type {\n",
       "        vertical-align: middle;\n",
       "    }\n",
       "\n",
       "    .dataframe tbody tr th {\n",
       "        vertical-align: top;\n",
       "    }\n",
       "\n",
       "    .dataframe thead th {\n",
       "        text-align: right;\n",
       "    }\n",
       "</style>\n",
       "<table border=\"1\" class=\"dataframe\">\n",
       "  <thead>\n",
       "    <tr style=\"text-align: right;\">\n",
       "      <th></th>\n",
       "      <th>p_id</th>\n",
       "      <th>count</th>\n",
       "      <th>price</th>\n",
       "      <th>s_id</th>\n",
       "      <th>product</th>\n",
       "      <th>reco_price</th>\n",
       "    </tr>\n",
       "  </thead>\n",
       "  <tbody>\n",
       "    <tr>\n",
       "      <th>4</th>\n",
       "      <td>p5</td>\n",
       "      <td>10</td>\n",
       "      <td>4000</td>\n",
       "      <td>s1</td>\n",
       "      <td>와플</td>\n",
       "      <td>4000</td>\n",
       "    </tr>\n",
       "  </tbody>\n",
       "</table>\n",
       "</div>"
      ],
      "text/plain": [
       "  p_id  count  price s_id product  reco_price\n",
       "4   p5     10   4000   s1      와플        4000"
      ]
     },
     "execution_count": 23,
     "metadata": {},
     "output_type": "execute_result"
    }
   ],
   "source": [
    "siv=slist[slist['p_id']==p_id]\n",
    "siv"
   ]
  },
  {
   "cell_type": "code",
   "execution_count": 24,
   "id": "8e68e020",
   "metadata": {},
   "outputs": [
    {
     "data": {
      "text/plain": [
       "4    와플\n",
       "Name: product, dtype: object"
      ]
     },
     "execution_count": 24,
     "metadata": {},
     "output_type": "execute_result"
    }
   ],
   "source": [
    "siv['product']"
   ]
  },
  {
   "cell_type": "code",
   "execution_count": 26,
   "id": "d9964027",
   "metadata": {},
   "outputs": [
    {
     "data": {
      "text/html": [
       "<div>\n",
       "<style scoped>\n",
       "    .dataframe tbody tr th:only-of-type {\n",
       "        vertical-align: middle;\n",
       "    }\n",
       "\n",
       "    .dataframe tbody tr th {\n",
       "        vertical-align: top;\n",
       "    }\n",
       "\n",
       "    .dataframe thead th {\n",
       "        text-align: right;\n",
       "    }\n",
       "</style>\n",
       "<table border=\"1\" class=\"dataframe\">\n",
       "  <thead>\n",
       "    <tr style=\"text-align: right;\">\n",
       "      <th></th>\n",
       "      <th>p_id</th>\n",
       "      <th>product</th>\n",
       "      <th>reco_price</th>\n",
       "    </tr>\n",
       "  </thead>\n",
       "  <tbody>\n",
       "    <tr>\n",
       "      <th>0</th>\n",
       "      <td>p1</td>\n",
       "      <td>커피</td>\n",
       "      <td>1500</td>\n",
       "    </tr>\n",
       "    <tr>\n",
       "      <th>1</th>\n",
       "      <td>p2</td>\n",
       "      <td>쿠키</td>\n",
       "      <td>2000</td>\n",
       "    </tr>\n",
       "    <tr>\n",
       "      <th>2</th>\n",
       "      <td>p3</td>\n",
       "      <td>아이스크림</td>\n",
       "      <td>1500</td>\n",
       "    </tr>\n",
       "    <tr>\n",
       "      <th>3</th>\n",
       "      <td>p4</td>\n",
       "      <td>에이드</td>\n",
       "      <td>3000</td>\n",
       "    </tr>\n",
       "    <tr>\n",
       "      <th>4</th>\n",
       "      <td>p5</td>\n",
       "      <td>와플</td>\n",
       "      <td>4000</td>\n",
       "    </tr>\n",
       "    <tr>\n",
       "      <th>5</th>\n",
       "      <td>p6</td>\n",
       "      <td>과일주스</td>\n",
       "      <td>4000</td>\n",
       "    </tr>\n",
       "    <tr>\n",
       "      <th>6</th>\n",
       "      <td>p7</td>\n",
       "      <td>초콜릿</td>\n",
       "      <td>1500</td>\n",
       "    </tr>\n",
       "  </tbody>\n",
       "</table>\n",
       "</div>"
      ],
      "text/plain": [
       "  p_id product  reco_price\n",
       "0   p1      커피        1500\n",
       "1   p2      쿠키        2000\n",
       "2   p3   아이스크림        1500\n",
       "3   p4     에이드        3000\n",
       "4   p5      와플        4000\n",
       "5   p6    과일주스        4000\n",
       "6   p7     초콜릿        1500"
      ]
     },
     "execution_count": 26,
     "metadata": {},
     "output_type": "execute_result"
    }
   ],
   "source": [
    "p_df"
   ]
  },
  {
   "cell_type": "code",
   "execution_count": 28,
   "id": "82e1d112",
   "metadata": {},
   "outputs": [
    {
     "data": {
      "text/plain": [
       "'와플'"
      ]
     },
     "execution_count": 28,
     "metadata": {},
     "output_type": "execute_result"
    }
   ],
   "source": [
    "p_df=p_df.set_index('p_id')\n",
    "p_df.loc[p_id,'product']"
   ]
  },
  {
   "cell_type": "code",
   "execution_count": null,
   "id": "0787e7b4",
   "metadata": {},
   "outputs": [],
   "source": []
  }
 ],
 "metadata": {
  "kernelspec": {
   "display_name": "Python 3 (ipykernel)",
   "language": "python",
   "name": "python3"
  },
  "language_info": {
   "codemirror_mode": {
    "name": "ipython",
    "version": 3
   },
   "file_extension": ".py",
   "mimetype": "text/x-python",
   "name": "python",
   "nbconvert_exporter": "python",
   "pygments_lexer": "ipython3",
   "version": "3.10.8"
  }
 },
 "nbformat": 4,
 "nbformat_minor": 5
}
